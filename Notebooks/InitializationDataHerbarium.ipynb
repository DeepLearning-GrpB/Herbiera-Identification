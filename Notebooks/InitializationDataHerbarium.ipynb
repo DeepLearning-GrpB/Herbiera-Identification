{
 "cells": [
  {
   "attachments": {},
   "cell_type": "markdown",
   "metadata": {},
   "source": [
    "<h2> Initialisation et Construction des Jeux de Données depuis l'Herbier </h2>"
   ]
  },
  {
   "cell_type": "code",
   "execution_count": 1,
   "metadata": {},
   "outputs": [],
   "source": [
    "import os\n",
    "import zipfile\n",
    "from pathlib import Path\n",
    "import re\n",
    "import cv2\n",
    "import numpy as np\n",
    "import pandas as pd"
   ]
  },
  {
   "attachments": {},
   "cell_type": "markdown",
   "metadata": {},
   "source": [
    "---"
   ]
  },
  {
   "attachments": {},
   "cell_type": "markdown",
   "metadata": {},
   "source": [
    "#### Importation du \"Dataset\" des Image d'un Herbier"
   ]
  },
  {
   "cell_type": "code",
   "execution_count": 2,
   "metadata": {},
   "outputs": [],
   "source": [
    "relativeProjectPath = Path.cwd().parent\n",
    "dataPath = relativeProjectPath / 'Data'\n",
    "dataPath.mkdir(parents=True, exist_ok=True)  # Verify whether the Folder exists and Create it"
   ]
  },
  {
   "cell_type": "code",
   "execution_count": 3,
   "metadata": {},
   "outputs": [
    {
     "name": "stdout",
     "output_type": "stream",
     "text": [
      "\n",
      "Saved under ../Data/Dataset.zip\n"
     ]
    }
   ],
   "source": [
    "!python -m wget \"https://docs.google.com/uc?export=download&confirm=$https://docs.google.com/uc?export=download&id=1NKaDghYPk3NEdQ4ZBVqXjSs1hNacNW6b&id=1NKaDghYPk3NEdQ4ZBVqXjSs1hNacNW6b\" -o ../Data/Dataset.zip"
   ]
  },
  {
   "cell_type": "code",
   "execution_count": 4,
   "metadata": {},
   "outputs": [],
   "source": [
    "with zipfile.ZipFile((dataPath / 'Dataset.zip'), 'r') as zip_ref:\n",
    "    zip_ref.extractall(dataPath)\n",
    "(dataPath / 'Dataset.zip').unlink()"
   ]
  },
  {
   "attachments": {},
   "cell_type": "markdown",
   "metadata": {},
   "source": [
    "---"
   ]
  },
  {
   "attachments": {},
   "cell_type": "markdown",
   "metadata": {},
   "source": [
    "#### Construction des Jeux de Données Initiale depuis le Dossier \"Dataset\""
   ]
  },
  {
   "cell_type": "code",
   "execution_count": 5,
   "metadata": {},
   "outputs": [],
   "source": [
    "initDatasetPath = dataPath / 'Dataset'\n",
    "\n",
    "# Get ALL IMAGE\n",
    "lsImages = []\n",
    "for dir_, _, files in os.walk(initDatasetPath):\n",
    "    for file_name in files:\n",
    "      lsImages.append(re.search(r'Dataset.*', (initDatasetPath / dir_ / file_name).__str__()).group())"
   ]
  },
  {
   "cell_type": "code",
   "execution_count": 6,
   "metadata": {},
   "outputs": [],
   "source": [
    "# Définir les Informations connu d'après les 4 caractères descriptifs des 11 taxons\n",
    "# Devrions-nous faire une transformation binaire?\n",
    "# Bord : { Lisse = 0 / Denté = 1 }\n",
    "# Phyllotaxie : { Opposé = 0 / Alterné = 1 }\n",
    "# Type Feuille : { Simple = 0 / Composée = 1 }\n",
    "# Ligneux : { Non = 0 / Oui = 1 }\n",
    "\n",
    "def makeBinaryHerbarium(lsHerbarium):\n",
    "    lsHerbarium[0] = 0 if (lsHerbarium[0]=='lisse') else 1\n",
    "    lsHerbarium[1] = 0 if (lsHerbarium[1]=='opposé') else 1\n",
    "    lsHerbarium[2] = 0 if (lsHerbarium[2]=='simple') else 1\n",
    "    lsHerbarium[3] = 0 if (lsHerbarium[3]=='non') else 1\n",
    "    return lsHerbarium\n",
    "\n",
    "Herbarium = dict({\n",
    "    'amborella': ['lisse', 'alterné', 'simple', 'oui'],\n",
    "    'castanea': ['denté', 'alterné', 'simple', 'oui'],\n",
    "    'desmodium': ['lisse', 'alterné', 'composée', 'non'],\n",
    "    'eugenia': ['lisse', 'opposé', 'simple', 'oui'],\n",
    "    'laurus': ['lisse', 'opposé', 'simple', 'oui'],\n",
    "    'litsea': ['lisse', 'alterné', 'simple', 'oui'],\n",
    "    'magnolia': ['lisse', 'alterné', 'simple', 'oui'],\n",
    "    'rubus': ['denté', 'alterné', 'composée', 'oui'],\n",
    "    'ulmus': ['denté', 'alterné', 'simple', 'oui'],\n",
    "    'monimiaceae': ['lisse', 'opposé', 'simple', 'oui'],\n",
    "    'convolvulaceae': ['lisse', 'alterné', 'simple', 'non']\n",
    "})\n",
    "\n",
    "binaryHerbarium = {herb: makeBinaryHerbarium(Herbarium[herb].copy()) for herb in Herbarium.keys()}"
   ]
  },
  {
   "cell_type": "code",
   "execution_count": 7,
   "metadata": {},
   "outputs": [],
   "source": [
    "lsHerbarium = []\n",
    "for pathImage in lsImages:\n",
    "    typeImage = pathImage.split('\\\\')[-3]\n",
    "    shapeImage = cv2.imread(((dataPath / pathImage).__str__())).shape\n",
    "    sizeImage = np.product(shapeImage)\n",
    "    nameHerbarium = pathImage.split('\\\\')[-2]  \n",
    "    lsHerbarium.append([pathImage, typeImage, shapeImage, sizeImage, nameHerbarium] + Herbarium[nameHerbarium] + binaryHerbarium[nameHerbarium])\n",
    "    \n",
    "dfImageHerbarium = pd.DataFrame (lsHerbarium, columns = ['ImagePath', 'Type', 'ImageShape', 'ImageSize', 'Herbarium', 'Bord', 'Phyllotaxie', 'TypeFeuille', 'Ligneux', 'binaryBord', 'binaryPhyllotaxie', 'binaryTypeFeuille', 'binaryLigneux'])\n",
    "dfImageHerbariumTest = dfImageHerbarium[dfImageHerbarium['Type'] == 'Test']\n",
    "dfImageHerbariumTrain = dfImageHerbarium[dfImageHerbarium['Type'] == 'Train']\n"
   ]
  },
  {
   "cell_type": "code",
   "execution_count": 8,
   "metadata": {},
   "outputs": [],
   "source": [
    "# Split and Save into two SubDatasets (Test and Train)\n",
    "dfImageHerbariumTest.to_csv(path_or_buf=(dataPath / 'initialTestDataset.csv'), index = 0)\n",
    "dfImageHerbariumTrain.to_csv(path_or_buf=(dataPath / 'initialTrainDataset.csv'), index = 0)"
   ]
  },
  {
   "attachments": {},
   "cell_type": "markdown",
   "metadata": {},
   "source": [
    "---"
   ]
  }
 ],
 "metadata": {
  "kernelspec": {
   "display_name": "Python 3.8.13 ('dl_py38')",
   "language": "python",
   "name": "python3"
  },
  "language_info": {
   "codemirror_mode": {
    "name": "ipython",
    "version": 3
   },
   "file_extension": ".py",
   "mimetype": "text/x-python",
   "name": "python",
   "nbconvert_exporter": "python",
   "pygments_lexer": "ipython3",
   "version": "3.8.13 (default, Mar 28 2022, 06:59:08) [MSC v.1916 64 bit (AMD64)]"
  },
  "orig_nbformat": 4,
  "vscode": {
   "interpreter": {
    "hash": "a2980eb1535fd9fe0bc5af9b4eea6a01ebfcb3e8a30a50ee16cd2370a902e8e1"
   }
  }
 },
 "nbformat": 4,
 "nbformat_minor": 2
}
