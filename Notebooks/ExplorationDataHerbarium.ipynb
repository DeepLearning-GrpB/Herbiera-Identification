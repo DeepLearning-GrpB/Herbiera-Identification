{
 "cells": [
  {
   "attachments": {},
   "cell_type": "markdown",
   "metadata": {},
   "source": [
    "<h2> Exploration des Jeux de Données d'Herbier </h2>"
   ]
  },
  {
   "cell_type": "code",
   "execution_count": 115,
   "metadata": {},
   "outputs": [],
   "source": [
    "import os\n",
    "import zipfile\n",
    "from pathlib import Path\n",
    "import re\n",
    "import cv2\n",
    "import numpy as np\n",
    "import pandas as pd"
   ]
  },
  {
   "attachments": {},
   "cell_type": "markdown",
   "metadata": {},
   "source": [
    "---"
   ]
  },
  {
   "attachments": {},
   "cell_type": "markdown",
   "metadata": {},
   "source": [
    "#### Importation des Jeux de Données (Train & Test)"
   ]
  },
  {
   "cell_type": "code",
   "execution_count": 116,
   "metadata": {},
   "outputs": [],
   "source": [
    "relativeProjectPath = Path.cwd().parent\n",
    "dataPath = relativeProjectPath / 'Data'"
   ]
  },
  {
   "cell_type": "code",
   "execution_count": 117,
   "metadata": {},
   "outputs": [],
   "source": [
    "testFilename, trainFilename = 'initialTestDataset.csv', 'initialTrainDataset.csv'\n",
    "\n",
    "if testFilename in os.listdir(dataPath):\n",
    "    dfImageHerbariumTest = pd.read_csv(filepath_or_buffer=(dataPath / 'initialTestDataset.csv'))\n",
    "else:\n",
    "    print('Le dataset \"TEST\" n\\'existe pas! \\nVeuillez vérifier les chemins ou réexécuter le fichier \"InitializationDataHerbarium.ipynb\"')\n",
    "    \n",
    "if trainFilename in os.listdir(dataPath):\n",
    "    dfImageHerbariumTrain = pd.read_csv(filepath_or_buffer=(dataPath / 'initialTrainDataset.csv'))\n",
    "else:\n",
    "    print('Le dataset \"TRAIN\" n\\'existe pas! \\nVeuillez vérifier les chemins ou réexécuter le fichier \"InitializationDataHerbarium.ipynb\"')"
   ]
  },
  {
   "attachments": {},
   "cell_type": "markdown",
   "metadata": {},
   "source": [
    "#### Exploration des Jeux de Données"
   ]
  },
  {
   "attachments": {},
   "cell_type": "markdown",
   "metadata": {},
   "source": [
    "##### Test Dataset"
   ]
  },
  {
   "cell_type": "code",
   "execution_count": 118,
   "metadata": {},
   "outputs": [
    {
     "name": "stdout",
     "output_type": "stream",
     "text": [
      "Nombre d'Images TEST : 110\n"
     ]
    }
   ],
   "source": [
    "print(f'Nombre d\\'Images TEST : {len(dfImageHerbariumTest)}')"
   ]
  },
  {
   "cell_type": "code",
   "execution_count": 119,
   "metadata": {},
   "outputs": [
    {
     "name": "stdout",
     "output_type": "stream",
     "text": [
      "Nombre d'Images Par Taxon : \n",
      "amborella -> 10\n",
      "castanea -> 10\n",
      "convolvulaceae -> 10\n",
      "desmodium -> 10\n",
      "eugenia -> 10\n",
      "laurus -> 10\n",
      "litsea -> 10\n",
      "magnolia -> 10\n",
      "monimiaceae -> 10\n",
      "rubus -> 10\n",
      "ulmus -> 10\n"
     ]
    }
   ],
   "source": [
    "nbrImageperTaxon = \"\\n\".join(list(map(lambda val : f'{val.split(\" \")[0]} -> {val.split(\" \")[-1]}', str(dfImageHerbariumTest[\"Herbarium\"].value_counts()).split('\\n')[:-1])))\n",
    "print(f'Nombre d\\'Images Par Taxon : \\n{nbrImageperTaxon}')"
   ]
  },
  {
   "cell_type": "code",
   "execution_count": 120,
   "metadata": {},
   "outputs": [
    {
     "name": "stdout",
     "output_type": "stream",
     "text": [
      "Nombre d'Images selon les charactéristiques de Bord du Limbe : lisse -> 80 || denté -> 30\n",
      "Nombre d'Images selon les charactéristiques de Disposition des Feuilles (Phyllotaxie) : alterné -> 80 || opposé -> 30\n",
      "Nombre d'Images selon les charactéristiques de Type de Feuille : simple -> 90 || composée -> 20\n",
      "Nombre d'Images selon les charactéristiques de Tyge Végétal : oui -> 90 || non -> 20\n"
     ]
    }
   ],
   "source": [
    "nbrImage_wBord = \" || \".join(list(map(lambda val : f'{val.split(\" \")[0]} -> {val.split(\" \")[-1]}', str(dfImageHerbariumTest[\"Bord\"].value_counts()).split('\\n')[:-1])))\n",
    "nbrImage_wPhyllotaxie = \" || \".join(list(map(lambda val : f'{val.split(\" \")[0]} -> {val.split(\" \")[-1]}', str(dfImageHerbariumTest[\"Phyllotaxie\"].value_counts()).split('\\n')[:-1])))\n",
    "nbrImage_wTypeFeuille = \" || \".join(list(map(lambda val : f'{val.split(\" \")[0]} -> {val.split(\" \")[-1]}', str(dfImageHerbariumTest[\"TypeFeuille\"].value_counts()).split('\\n')[:-1])))\n",
    "nbrImage_wLigneux = \" || \".join(list(map(lambda val : f'{val.split(\" \")[0]} -> {val.split(\" \")[-1]}', str(dfImageHerbariumTest[\"Ligneux\"].value_counts()).split('\\n')[:-1])))\n",
    "\n",
    "\n",
    "print(f'Nombre d\\'Images selon les charactéristiques de Bord du Limbe : {nbrImage_wBord}')\n",
    "print(f'Nombre d\\'Images selon les charactéristiques de Disposition des Feuilles (Phyllotaxie) : {nbrImage_wPhyllotaxie}')\n",
    "print(f'Nombre d\\'Images selon les charactéristiques de Type de Feuille : {nbrImage_wTypeFeuille}')\n",
    "print(f'Nombre d\\'Images selon les charactéristiques de Tyge Végétal : {nbrImage_wLigneux}')"
   ]
  },
  {
   "cell_type": "code",
   "execution_count": 121,
   "metadata": {},
   "outputs": [
    {
     "name": "stdout",
     "output_type": "stream",
     "text": [
      "Pourcentage d'Image avec une Taille et Shape Unique : 100.0%\n"
     ]
    }
   ],
   "source": [
    "prctImage_wUniQShapeSize = len(pd.unique(dfImageHerbariumTest['ImageShape']))/len(dfImageHerbariumTest) * 100\n",
    "print(f'Pourcentage d\\'Image avec une Taille et Shape Unique : {prctImage_wUniQShapeSize}%')\n",
    "\n",
    "if prctImage_wUniQShapeSize < 100:\n",
    "    nonUniQ_ShapeSize = dfImageHerbariumTest['ImageShape'].value_counts().reset_index().iloc[0, 0]\n",
    "    print(f'Shape des Image n\\'étant pas unique : {nonUniQ_ShapeSize}')"
   ]
  },
  {
   "attachments": {},
   "cell_type": "markdown",
   "metadata": {},
   "source": [
    "##### Train Dataset"
   ]
  },
  {
   "cell_type": "code",
   "execution_count": 122,
   "metadata": {},
   "outputs": [
    {
     "name": "stdout",
     "output_type": "stream",
     "text": [
      "Nombre d'Images TRAIN : 220\n"
     ]
    }
   ],
   "source": [
    "print(f'Nombre d\\'Images TRAIN : {len(dfImageHerbariumTrain)}')"
   ]
  },
  {
   "cell_type": "code",
   "execution_count": 123,
   "metadata": {},
   "outputs": [
    {
     "name": "stdout",
     "output_type": "stream",
     "text": [
      "Nombre d'Images Par Taxon : \n",
      "amborella -> 20\n",
      "castanea -> 20\n",
      "convolvulaceae -> 20\n",
      "desmodium -> 20\n",
      "eugenia -> 20\n",
      "laurus -> 20\n",
      "litsea -> 20\n",
      "magnolia -> 20\n",
      "monimiaceae -> 20\n",
      "rubus -> 20\n",
      "ulmus -> 20\n"
     ]
    }
   ],
   "source": [
    "nbrImageperTaxon = \"\\n\".join(list(map(lambda val : f'{val.split(\" \")[0]} -> {val.split(\" \")[-1]}', str(dfImageHerbariumTrain[\"Herbarium\"].value_counts()).split('\\n')[:-1])))\n",
    "print(f'Nombre d\\'Images Par Taxon : \\n{nbrImageperTaxon}')"
   ]
  },
  {
   "cell_type": "code",
   "execution_count": 124,
   "metadata": {},
   "outputs": [
    {
     "name": "stdout",
     "output_type": "stream",
     "text": [
      "Nombre d'Images selon les charactéristiques de Bord du Limbe : lisse -> 160 || denté -> 60\n",
      "Nombre d'Images selon les charactéristiques de Disposition des Feuilles (Phyllotaxie) : alterné -> 160 || opposé -> 60\n",
      "Nombre d'Images selon les charactéristiques de Type de Feuille : simple -> 180 || composée -> 40\n",
      "Nombre d'Images selon les charactéristiques de Tyge Végétal : oui -> 180 || non -> 40\n"
     ]
    }
   ],
   "source": [
    "nbrImage_wBord = \" || \".join(list(map(lambda val : f'{val.split(\" \")[0]} -> {val.split(\" \")[-1]}', str(dfImageHerbariumTrain[\"Bord\"].value_counts()).split('\\n')[:-1])))\n",
    "nbrImage_wPhyllotaxie = \" || \".join(list(map(lambda val : f'{val.split(\" \")[0]} -> {val.split(\" \")[-1]}', str(dfImageHerbariumTrain[\"Phyllotaxie\"].value_counts()).split('\\n')[:-1])))\n",
    "nbrImage_wTypeFeuille = \" || \".join(list(map(lambda val : f'{val.split(\" \")[0]} -> {val.split(\" \")[-1]}', str(dfImageHerbariumTrain[\"TypeFeuille\"].value_counts()).split('\\n')[:-1])))\n",
    "nbrImage_wLigneux = \" || \".join(list(map(lambda val : f'{val.split(\" \")[0]} -> {val.split(\" \")[-1]}', str(dfImageHerbariumTrain[\"Ligneux\"].value_counts()).split('\\n')[:-1])))\n",
    "\n",
    "\n",
    "print(f'Nombre d\\'Images selon les charactéristiques de Bord du Limbe : {nbrImage_wBord}')\n",
    "print(f'Nombre d\\'Images selon les charactéristiques de Disposition des Feuilles (Phyllotaxie) : {nbrImage_wPhyllotaxie}')\n",
    "print(f'Nombre d\\'Images selon les charactéristiques de Type de Feuille : {nbrImage_wTypeFeuille}')\n",
    "print(f'Nombre d\\'Images selon les charactéristiques de Tyge Végétal : {nbrImage_wLigneux}')"
   ]
  },
  {
   "cell_type": "code",
   "execution_count": 125,
   "metadata": {},
   "outputs": [
    {
     "name": "stdout",
     "output_type": "stream",
     "text": [
      "Pourcentage d'Image avec une Taille et Shape Unique : 99.54545454545455%\n",
      "Shape des Image n'étant pas unique : (5145, 3209, 3)\n"
     ]
    }
   ],
   "source": [
    "prctImage_wUniQShapeSize = (len(pd.unique(dfImageHerbariumTrain['ImageShape']))/len(dfImageHerbariumTrain)) * 100\n",
    "print(f'Pourcentage d\\'Image avec une Taille et Shape Unique : {prctImage_wUniQShapeSize}%')\n",
    "\n",
    "if prctImage_wUniQShapeSize < 100:\n",
    "    nonUniQ_ShapeSize = dfImageHerbariumTrain['ImageShape'].value_counts().reset_index().iloc[0, 0]\n",
    "    print(f'Shape des Image n\\'étant pas unique : {nonUniQ_ShapeSize}')"
   ]
  }
 ],
 "metadata": {
  "kernelspec": {
   "display_name": "base",
   "language": "python",
   "name": "python3"
  },
  "language_info": {
   "codemirror_mode": {
    "name": "ipython",
    "version": 3
   },
   "file_extension": ".py",
   "mimetype": "text/x-python",
   "name": "python",
   "nbconvert_exporter": "python",
   "pygments_lexer": "ipython3",
   "version": "3.8.8 (default, Apr 13 2021, 15:08:03) [MSC v.1916 64 bit (AMD64)]"
  },
  "orig_nbformat": 4,
  "vscode": {
   "interpreter": {
    "hash": "58cd7b394e9c2e2f0d866cd7aaab273313605f850ebeec9c26c4623ddfa9b0c7"
   }
  }
 },
 "nbformat": 4,
 "nbformat_minor": 2
}
